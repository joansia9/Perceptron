{
  "cells": [
    {
      "cell_type": "markdown",
      "metadata": {
        "id": "DVL7_bgmIAPR"
      },
      "source": [
        "# Perceptron Lab"
      ]
    },
    {
      "cell_type": "markdown",
      "metadata": {
        "id": "rBIfzcfn3QPO"
      },
      "source": [
        "This is the scaffold notebook for the perceptron lab and each lab will have a similar scaffold.  Make your own copy of this notebook and then you can fill in the tasks.  **You will fill in code boxes and test boxes with discussion for most tasks** and particularly discussion of results, graphs, etc. Good writing, grammar, punctuation, etc. are important and points will be taken off if these things are lacking.\n",
        "\n",
        "<b><u>In most cases just reporting results without discussion will not receive full credit.</u></b> Thus, your discussion should also include sentences like the following: This is because…  Note that the …  I was surprised to observe… I am not sure why …, but my hypothesis is that …\n",
        "\n",
        "Start by looking over the scikit-learn [user guide](https://scikit-learn.org/stable/user_guide.html) and carefully reading over the [perceptron documentation](https://scikit-learn.org/stable/modules/generated/sklearn.linear_model.Perceptron.html)."
      ]
    },
    {
      "cell_type": "code",
      "execution_count": 1,
      "metadata": {
        "id": "6ZbYjZZZ_yLV"
      },
      "outputs": [],
      "source": [
        "# imports\n",
        "import numpy as np\n",
        "from scipy.io import arff\n",
        "import pandas as pd"
      ]
    },
    {
      "cell_type": "markdown",
      "metadata": {
        "id": "KibCIXIThpbE"
      },
      "source": [
        "## 1. Debug and Evaluation\n",
        "\n",
        "For most labs we will give you some data and expected results so that you can verify that you are doing things right and getting appropriate results.  We will then have you run on some other data with the exact same hyperparameters so we can see if your results are correct.\n",
        "\n",
        "### 1.1 Debug (5%)\n",
        "Download this [data set](https://raw.githubusercontent.com/cs472ta/CS472/master/datasets/linsep2nonorigin.arff) into your local directory and name it debug.arff.  To download rather than view, right-click the link and save as.  To allow consistent results run the Perceptron using the following hyperparameters:\n",
        "- Learning rate = .1\n",
        "- Do NOT shuffle the data after every epoch like you would normally do\n",
        "- Learn for a maximum of 10 epochs\n",
        "- Start all weights at 0 (which is the default for this scikit-learn implementation)  \n",
        "\n",
        "Your results should be:\n",
        "Accuracy = [.875]\\\n",
        "Final Weights = [[-0.23  0.18]]\\\n",
        "[-0.1] - This last weight is the bias weight, which they call the intercept.\n",
        "\n",
        "To help you with this first task, following is one detailed variation that would do this for you. You may use your own variation.  Note that commonly used variable names in the community are clf (classifier), X (array of input features), y (vector of output labels)."
      ]
    },
    {
      "cell_type": "code",
      "execution_count": 2,
      "metadata": {
        "id": "KgAyy82gixIF",
        "colab": {
          "base_uri": "https://localhost:8080/"
        },
        "outputId": "4db3bc4b-ae3f-49cc-bfa3-0c3744c5aa59"
      },
      "outputs": [
        {
          "output_type": "stream",
          "name": "stdout",
          "text": [
            "-- Epoch 1\n",
            "Norm: 0.04, NNZs: 2, Bias: -0.100000, T: 8, Avg. loss: 0.013500\n",
            "Total training time: 0.00 seconds.\n",
            "-- Epoch 2\n",
            "Norm: 0.07, NNZs: 2, Bias: -0.100000, T: 16, Avg. loss: 0.011875\n",
            "Total training time: 0.00 seconds.\n",
            "-- Epoch 3\n",
            "Norm: 0.11, NNZs: 2, Bias: -0.100000, T: 24, Avg. loss: 0.010250\n",
            "Total training time: 0.00 seconds.\n",
            "-- Epoch 4\n",
            "Norm: 0.14, NNZs: 2, Bias: -0.100000, T: 32, Avg. loss: 0.008625\n",
            "Total training time: 0.01 seconds.\n",
            "-- Epoch 5\n",
            "Norm: 0.18, NNZs: 2, Bias: -0.100000, T: 40, Avg. loss: 0.007000\n",
            "Total training time: 0.01 seconds.\n",
            "-- Epoch 6\n",
            "Norm: 0.21, NNZs: 2, Bias: -0.100000, T: 48, Avg. loss: 0.005375\n",
            "Total training time: 0.01 seconds.\n",
            "-- Epoch 7\n",
            "Norm: 0.23, NNZs: 2, Bias: -0.100000, T: 56, Avg. loss: 0.008250\n",
            "Total training time: 0.01 seconds.\n",
            "-- Epoch 8\n",
            "Norm: 0.25, NNZs: 2, Bias: -0.100000, T: 64, Avg. loss: 0.007625\n",
            "Total training time: 0.01 seconds.\n",
            "-- Epoch 9\n",
            "Norm: 0.27, NNZs: 2, Bias: -0.100000, T: 72, Avg. loss: 0.007000\n",
            "Total training time: 0.01 seconds.\n",
            "-- Epoch 10\n",
            "Norm: 0.29, NNZs: 2, Bias: -0.100000, T: 80, Avg. loss: 0.006375\n",
            "Total training time: 0.01 seconds.\n",
            "[[-0.23  0.18]]\n",
            "[-0.1]\n",
            "0.875\n"
          ]
        },
        {
          "output_type": "stream",
          "name": "stderr",
          "text": [
            "/usr/local/lib/python3.11/dist-packages/sklearn/linear_model/_stochastic_gradient.py:738: ConvergenceWarning: Maximum number of iteration reached before convergence. Consider increasing max_iter to improve the fit.\n",
            "  warnings.warn(\n"
          ]
        }
      ],
      "source": [
        "from sklearn.linear_model import Perceptron\n",
        "\n",
        "Data_Set = arff.loadarff('debug.arff')\n",
        "Data_Set_df = pd.DataFrame(Data_Set[0])\n",
        "Data_Set_np = Data_Set_df.to_numpy()\n",
        "Data_Set_np = Data_Set_np.astype(float)\n",
        "X = Data_Set_np[:, :-1]\n",
        "y = Data_Set_np[:, -1]\n",
        "\n",
        "clf = Perceptron(shuffle=False, verbose=1, eta0=.1, max_iter=10)\n",
        "clf.fit(X, y)\n",
        "print(clf.coef_)\n",
        "print(clf.intercept_)\n",
        "print(clf.score(X, y))"
      ]
    },
    {
      "cell_type": "markdown",
      "metadata": {
        "id": "BcpNy17rG4Al"
      },
      "source": [
        "Notes:\n",
        "* If you increase (or just remove) max_iter your perceptron will converge to 100% in one more epoch.  Try it!\n",
        "* verbose (integer) specifies how much info you get after each epoch.  It does not change results.  Try it with 0.\n",
        "    * Norm is a measure of the total weight magnitudes in the current model.\n",
        "    * NNZs is the number of non-zero weights there currently are (not including the bias).\n",
        "    * clf.intercept_ is the value of the bias weight, NOT the actual y-intercept of the decision surface, though it will affect that.\n",
        "    * T is the total number of weight updates so far.  In this case all the weights were updated each epoch.\n",
        "    * Avg. loss is another measure of error.  More on that later.\n",
        "    * The activation function outputs 1 if net > 0, else 0."
      ]
    },
    {
      "cell_type": "markdown",
      "metadata": {
        "id": "kY3VNB1ui03N"
      },
      "source": [
        "### 1.2 (5%) Evaluation\n",
        "\n",
        "Now train a perceptron model  on the [banknote authentication dataset](https://raw.githubusercontent.com/cs472ta/CS472/master/datasets/data_banknote_authentication.arff) and report the final accuracy, weights, and bias. Use the exact same hyperparameters as the debug dataset. The most common reason for results not matching ours is not exactly using the same hyperparameters (e.g. initial weights, training exactly 10 epochs, no shuffling, etc.) Hint: Throughout these labs for the numerous cases where you are doing the same task, but with different data (e.g. debug, eval), you could create a function where you just pass the data set name, so as not to recreate the code multiple times."
      ]
    },
    {
      "cell_type": "code",
      "execution_count": 3,
      "metadata": {
        "id": "2yAxA78QjDh2",
        "colab": {
          "base_uri": "https://localhost:8080/"
        },
        "outputId": "3e48934b-af8c-436a-c004-f329536864e2"
      },
      "outputs": [
        {
          "output_type": "stream",
          "name": "stdout",
          "text": [
            "-- Epoch 1\n",
            "Norm: 1.42, NNZs: 4, Bias: 2.100000, T: 1372, Avg. loss: 0.023615\n",
            "Total training time: 0.00 seconds.\n",
            "-- Epoch 2\n",
            "Norm: 2.90, NNZs: 4, Bias: 2.600000, T: 2744, Avg. loss: 0.022359\n",
            "Total training time: 0.00 seconds.\n",
            "-- Epoch 3\n",
            "Norm: 3.62, NNZs: 4, Bias: 3.500000, T: 4116, Avg. loss: 0.028435\n",
            "Total training time: 0.00 seconds.\n",
            "-- Epoch 4\n",
            "Norm: 4.36, NNZs: 4, Bias: 3.700000, T: 5488, Avg. loss: 0.013195\n",
            "Total training time: 0.01 seconds.\n",
            "-- Epoch 5\n",
            "Norm: 4.51, NNZs: 4, Bias: 4.300000, T: 6860, Avg. loss: 0.015216\n",
            "Total training time: 0.01 seconds.\n",
            "-- Epoch 6\n",
            "Norm: 4.70, NNZs: 4, Bias: 4.700000, T: 8232, Avg. loss: 0.026061\n",
            "Total training time: 0.01 seconds.\n",
            "-- Epoch 7\n",
            "Norm: 5.40, NNZs: 4, Bias: 4.600000, T: 9604, Avg. loss: 0.018060\n",
            "Total training time: 0.01 seconds.\n",
            "-- Epoch 8\n",
            "Norm: 5.83, NNZs: 4, Bias: 4.800000, T: 10976, Avg. loss: 0.018378\n",
            "Total training time: 0.01 seconds.\n",
            "-- Epoch 9\n",
            "Norm: 5.88, NNZs: 4, Bias: 5.200000, T: 12348, Avg. loss: 0.015085\n",
            "Total training time: 0.01 seconds.\n",
            "Convergence after 9 epochs took 0.01 seconds\n",
            "[[-4.28857497 -2.390381   -3.0160324  -1.1686672 ]]\n",
            "[5.2]\n",
            "0.9766763848396501\n"
          ]
        }
      ],
      "source": [
        "# Load evaluation data\n",
        "\n",
        "from sklearn.linear_model import Perceptron\n",
        "\n",
        "#creating a function\n",
        "def loadModel(dataset_name: str):\n",
        "    Data_Set = arff.loadarff(dataset_name)\n",
        "    Data_Set_df = pd.DataFrame(Data_Set[0])\n",
        "\n",
        "    # Train on the evaluation data\n",
        "    Data_Set_np = Data_Set_df.to_numpy()\n",
        "    Data_Set_np = Data_Set_np.astype(float)\n",
        "    X = Data_Set_np[:, :-1]\n",
        "    y = Data_Set_np[:, -1]\n",
        "\n",
        "    #keep the same parameters!\n",
        "    clf = Perceptron(shuffle=False, verbose=1, eta0=.1, max_iter=10)\n",
        "    clf.fit(X, y)\n",
        "\n",
        "    # print your accuracy and weights. Do not enter these values by hand.\n",
        "    print(clf.coef_)\n",
        "    print(clf.intercept_)\n",
        "    print(clf.score(X, y))\n",
        "\n",
        "loadModel('eval.arff')\n"
      ]
    },
    {
      "cell_type": "markdown",
      "metadata": {
        "id": "U-4J5VcS9umq"
      },
      "source": [
        "#### Discussion\n",
        "Open the box below and type in your discussion.  Note that after each exercise you will have a chance to discuss your effort and results. What was your final accuracy? What was your experience running on the banknote authentication dataset?"
      ]
    },
    {
      "cell_type": "markdown",
      "metadata": {
        "id": "pk6jqZjoG4Am"
      },
      "source": [
        "My results for 1.2 is Convergence after 9 epochs took 0.01 seconds\n",
        "[[-4.28857497 -2.390381   -3.0160324  -1.1686672 ]]\n",
        "[5.2]\n",
        "0.9766763848396501\n",
        "My experience went smoothly.\n"
      ]
    },
    {
      "cell_type": "markdown",
      "metadata": {
        "id": "9vWiTdlbR2Xh"
      },
      "source": [
        "## 2. Classifying on linearly separable and non-linearly separable data\n",
        "\n",
        "### 2.1 (5%) Create 2 datasets\n",
        "\n",
        "- Both with 8 instances using 2 real valued inputs with 4 instances from each class.\n",
        "- One data set should be linearly separable and the other not.\n",
        "- Show or print your datasets"
      ]
    },
    {
      "cell_type": "code",
      "execution_count": 67,
      "metadata": {
        "id": "4SSoasDQSKXb",
        "outputId": "65b82985-8f5f-4883-dba7-3feb763099c7",
        "colab": {
          "base_uri": "https://localhost:8080/",
          "height": 892
        }
      },
      "outputs": [
        {
          "output_type": "display_data",
          "data": {
            "text/plain": [
              "<Figure size 640x480 with 1 Axes>"
            ],
            "image/png": "[encoded data removed]"
          },
          "metadata": {}
        },
        {
          "output_type": "display_data",
          "data": {
            "text/plain": [
              "<Figure size 640x480 with 1 Axes>"
            ],
            "image/png": "[encoded data removed]"
          },
          "metadata": {}
        }
      ],
      "source": [
        "# Create and show the 2 datasets.\n",
        "# You could do it here in Python or create arff files in your local folder with a text editor.  Either way show your dataset.\n",
        "import matplotlib.pyplot as plt\n",
        "\n",
        "\n",
        "# Data points (linearly separable data)\n",
        "linearlySep_data = np.array([[-10, -10],  # Class R\n",
        "                             [-7, 7],     # Class R\n",
        "                             [-4, 4],     # Class R\n",
        "                             [-8, 8],     # Class R\n",
        "                             [1, 3],      # Class B\n",
        "                             [4, 4],      # Class B\n",
        "                             [7, 7],      # Class B\n",
        "                             [9, -9]])    # Class B\n",
        "\n",
        "# Labels for the classes\n",
        "labels = np.array([0, 0, 0, 0, 1, 1, 1, 1])  # Class R (0) and Class B (1)\n",
        "\n",
        "# Create a scatter plot of data\n",
        "plt.scatter(linearlySep_data[:, 0], linearlySep_data[:, 1], c=labels, s=200, cmap='seismic')\n",
        "# Set the limits for the axes (auto-scaled based on the data range)\n",
        "plt.xlim(-15, 15)\n",
        "plt.ylim(-15, 15)\n",
        "\n",
        "# Create a scatter plot of data\n",
        "scatter = plt.scatter(linearlySep_data[:,0], linearlySep_data[:,1], c = labels, s=200, cmap='seismic')\n",
        "legend = plt.legend(*scatter.legend_elements(num=1), title=\"Class\", loc='upper right') # Legend\n",
        "\n",
        "# Display the plot\n",
        "plt.show()\n",
        "\n",
        "\n",
        "# Data points (Nonlinearly separable data)\n",
        "NonlinearlySep_data = np.array([[-1, -1],  # Class R\n",
        "                             [-7, 7],     # Class R\n",
        "                             [-1, 4],     # Class R\n",
        "                             [-1, 8],     # Class R\n",
        "                             [1, 7],      # Class B\n",
        "                             [4, 1],      # Class B\n",
        "                             [7, 2],      # Class B\n",
        "                             [9, -9]])    # Class B\n",
        "\n",
        "# Labels for the classes\n",
        "labels = np.array([0, 0, 0, 0, 1, 1, 1, 1])  # Class R (0) and Class B (1)\n",
        "\n",
        "# Create a scatter plot of data\n",
        "plt.scatter(NonlinearlySep_data[:, 0], NonlinearlySep_data[:, 1], c=labels, s=200, cmap='seismic')\n",
        "# Set the limits for the axes (auto-scaled based on the data range)\n",
        "plt.xlim(-15, 15)\n",
        "plt.ylim(-15, 15)\n",
        "\n",
        "# the correct slope and intercept using your learned weights and bias.\n",
        "xlist = np.linspace(-10.0, 10.0, 100) # create 100 evenly spaced points between -1 and 1 for the x axis\n",
        "ylist = np.linspace(-10.0, 10.0, 100) # create 100 evenly spaced points between -1 and 1 for the y axis\n",
        "slope = -2  # made up\n",
        "intercept = 0.1 # made up\n",
        "eq = slope*xlist + intercept\n",
        "plt.plot(xlist,  eq, '-k', )\n",
        "plt.title('Linearly Separable Data Example')\n",
        "plt.xlabel('x')\n",
        "plt.ylabel('y')\n",
        "\n",
        "\n",
        "# Create a scatter plot of data\n",
        "scatter = plt.scatter(NonlinearlySep_data[:,0], NonlinearlySep_data[:,1], c = labels, s=200, cmap='seismic')\n",
        "legend = plt.legend(*scatter.legend_elements(num=1), title=\"Class\", loc='upper right') # Legend\n",
        "\n",
        "# Display the plot\n",
        "plt.show()\n",
        "\n"
      ]
    },
    {
      "cell_type": "markdown",
      "metadata": {
        "id": "SIRG42TgSR4x"
      },
      "source": [
        "### 2.2 (5%) Train on both sets using the scikit-learn perceptron model\n",
        "- Train on each and print the results. Train until convergence (i.e. use the default max_iter by simply not specifying it).\n",
        "- You may choose your other hyperparameters."
      ]
    },
    {
      "cell_type": "code",
      "execution_count": null,
      "metadata": {
        "id": "KBGUn43ASiXW"
      },
      "outputs": [],
      "source": [
        "# Train and print results with both datasets"
      ]
    },
    {
      "cell_type": "markdown",
      "metadata": {
        "id": "890A39KX9zLC"
      },
      "source": [
        "#### Discussion\n",
        "What is different about the two runs? What makes one dataset not linearly separable? What is the result of the training? What is the accuracy of the two models?"
      ]
    },
    {
      "cell_type": "markdown",
      "metadata": {
        "id": "BgWR-9FaG4An"
      },
      "source": [
        "** Your discussion goes here **"
      ]
    },
    {
      "cell_type": "markdown",
      "metadata": {
        "id": "v19fpixqTe-7"
      },
      "source": [
        "### 2.3 (10%) Graph the datasets and their corresponding decision line\n",
        "\n",
        " - Graph each dataset\n",
        " - Use your trained perceptrons above to determine each dataset's decision line\n",
        "    - We discssed how to find the slope and intercept in class and the equation is in the Perceptron slides\n",
        " - For all graphs always label the axes!\n",
        " - Following are examples of what graphs could look like\n",
        "\n",
        "![Linearly Separable Data](https://raw.githubusercontent.com/rmorain/CS472-1/master/images/perceptron/linearly_separable.png)\n",
        "\n",
        "![Not Linearly Separable](https://raw.githubusercontent.com/rmorain/CS472-1/master/images/perceptron/not_linearly_separable.png)"
      ]
    },
    {
      "cell_type": "code",
      "execution_count": null,
      "metadata": {
        "colab": {
          "base_uri": "https://localhost:8080/",
          "height": 312
        },
        "id": "8l64tZUqCEwy",
        "outputId": "d111d17a-4813-4e52-c0df-3790ebe6f7b6"
      },
      "outputs": [
        {
          "data": {
            "image/png": "[encoded data removed]",
            "text/plain": [
              "<Figure size 640x480 with 1 Axes>"
            ]
          },
          "metadata": {},
          "output_type": "display_data"
        }
      ],
      "source": [
        "# Sample Graph code, You can use any graphing approach you want including this one.\n",
        "# We encourage you to use matplotlib.\n",
        "import matplotlib.pyplot as plt\n",
        "\n",
        "# The data in this example is made up.  You will use your real data.\n",
        "data = np.array([[-.9,-.9],[-.6,.6],[-.3,.3],[-.1,.1],[.1,.456],[.3,-.324],[.6,.778],[.9,-.76]])\n",
        "labels = np.array([0,0,0,0,1,1,1,1])\n",
        "\n",
        "# Create a scatter plot of data\n",
        "plt.xlim(-1,1)\n",
        "plt.ylim(-1,1)\n",
        "scatter = plt.scatter(data[:,0], data[:,1], c = labels, s=200, cmap='seismic')\n",
        "legend = plt.legend(*scatter.legend_elements(num=1), title=\"Class\", loc='upper right') # Legend\n",
        "\n",
        "# Plot the learned separator.  We just made up the slope and intercept for this example. You need to calculate\n",
        "# the correct slope and intercept using your learned weights and bias.\n",
        "xlist = np.linspace(-1.0, 1.0, 100) # create 100 evenly spaced points between -1 and 1 for the x axis\n",
        "ylist = np.linspace(-1.0, 1.0, 100) # create 100 evenly spaced points between -1 and 1 for the y axis\n",
        "slope = -2  # made up\n",
        "intercept = 0.1 # made up\n",
        "eq = slope*xlist + intercept\n",
        "plt.plot(xlist,  eq, '-k', )\n",
        "plt.title('Linearly Separable Data Example')\n",
        "plt.xlabel('x')\n",
        "plt.ylabel('y')\n",
        "plt.grid() # add grid lines\n",
        "plt.show() # show the plot"
      ]
    },
    {
      "cell_type": "code",
      "execution_count": null,
      "metadata": {
        "id": "ZCPFUAGTS2sX"
      },
      "outputs": [],
      "source": [
        "# Graph datasets and decision lines for both cases."
      ]
    },
    {
      "cell_type": "markdown",
      "metadata": {
        "id": "M7dyHR0c92zd"
      },
      "source": [
        "#### Discussion\n",
        "What makes a dataset not linearly separable? How is the decision line determined? slope? y-intercept?"
      ]
    },
    {
      "cell_type": "markdown",
      "metadata": {
        "id": "_9-lcIX7G4An"
      },
      "source": [
        "** Your discussion goes here **"
      ]
    },
    {
      "cell_type": "markdown",
      "metadata": {
        "id": "_N5RXV8AzdRF"
      },
      "source": [
        "### 2.4 (5%) Discussion - In general, why will perceptrons not get perfect accuracy on non-linearly separable data"
      ]
    },
    {
      "cell_type": "markdown",
      "metadata": {
        "id": "0hSjHuLdzdRF"
      },
      "source": [
        "** Your discussion goes here **"
      ]
    },
    {
      "cell_type": "markdown",
      "metadata": {
        "id": "0ySvhd1lUGSe"
      },
      "source": [
        "## 3. Use the perceptron to learn this version of the [voting data set](https://raw.githubusercontent.com/cs472ta/CS472/master/datasets/voting-dataset.arff)\n",
        "\n",
        "This particular task is an edited version of the standard voting set, where we have replaced all the “don’t know” values with the most common value for the particular attribute. Look at the [tutorial](https://github.com/cs472ta/CS472/blob/master/Tutorial.ipynb) from the Labs Content page to see examples of prepping the voting data set for sklearn.\n",
        "\n",
        "### 3.1 (10%) Average final training and test set accuracy over multiple trials\n",
        "\n",
        "- Learn the voting data five times with different random 70/30 Training/Test splits each time\n",
        "- Use a learning rate of 1.  The other hyperparameters are up to you.\n",
        "- Report the 5 trials and the average training and test accuracy and number of epochs to converge across the 5 trials in a table\n",
        "    - Below is an example of what a 2 trial table might look like\n",
        "\n",
        "| Trial | Training Accuracy | Test accuracy | Number of epochs |\n",
        "| --- | --- | --- | --- |\n",
        "| 1 | .950 | .550 | 4 |\n",
        "| 2 | .850 | .450 | 6 |\n",
        "| Average | .900 | .500 | 5 |\n",
        "\n",
        "*- As a rough sanity check, typical Perceptron test accuracies for the voting data set are 90%-98%.*\n"
      ]
    },
    {
      "cell_type": "code",
      "execution_count": null,
      "metadata": {
        "id": "Romyl4G8Trki"
      },
      "outputs": [],
      "source": [
        "# Run the perceptron 5 times on the voting data set with different splits and record the results.\n",
        "# Hint: look up scikit-learn train_test_split\n",
        "# Create the table using the tool of your choice"
      ]
    },
    {
      "cell_type": "markdown",
      "metadata": {
        "id": "cm4rbWkzVeoR"
      },
      "source": [
        "### 3.2 (10%) Interpreting the Model\n",
        "- Learn with the perceptron once on the full voting data set\n",
        "- Look at the learned weights and bias and do your best to explain what the model has learned and how the individual input features affect the result.\n",
        "- Which specific features are most critical for the voting task, and which are least critical?"
      ]
    },
    {
      "cell_type": "code",
      "execution_count": null,
      "metadata": {
        "id": "2PgAMfAsG4Ao"
      },
      "outputs": [],
      "source": [
        "#Learn once on the full voting data set.  If you Look at our tutorial at the beginning"
      ]
    },
    {
      "cell_type": "markdown",
      "metadata": {
        "id": "c6I5InOrG4Ao"
      },
      "source": [
        "### Discussion\n",
        "How do the different features in the dataset effect prediction? How could you determine this?"
      ]
    },
    {
      "cell_type": "markdown",
      "metadata": {
        "id": "DqukakXPG4Ao"
      },
      "source": [
        "** Your discussion goes here **"
      ]
    },
    {
      "cell_type": "markdown",
      "metadata": {
        "id": "NyUmJ4yWVsQ7"
      },
      "source": [
        "### 3.3 (15%) Misclassification rate vs epochs\n",
        "\n",
        "Learn with the perceptron once on the full voting data set and graph the misclassification rate (number_misclassified  /  number_of_total_data_points) at each epoch until convergence (0th – final epoch).  Hints:\n",
        "- For the 0th epoch (i.e. initial weights), assume the initial misclassification rate is 50% and let that be the first point on your graph. Since there are 2 output classes, random guessing would only get it right about 1/2 of the time. Missclassifcation rate is 1 - accuracy.\n",
        "- Doing clf.fit with max_iter = 1, and warm_start=True will let you loop through epochs one at a time, allowing you to look at accuracy, etc. after each epoch.  But how do you know how many epochs to run until convergence?  One way is to just to first run it until convergence with random_state = c to see how many epochs it took (n_iter_).  Then run it again one epoch at a time n_iter_ times using the same random_state constant c (so that you get the exact same conditions).\n",
        "- Below is a rough example of what this type of graph might look like (though this graph is for avg rate across multiple trials)\n",
        "\n",
        "![Average Misclassification Rate](https://raw.githubusercontent.com/rmorain/CS472-1/master/images/perceptron/avg_misclassification_rate_vs_epochs.png)"
      ]
    },
    {
      "cell_type": "code",
      "execution_count": null,
      "metadata": {
        "id": "2_ZRPWWVVeFM"
      },
      "outputs": [],
      "source": [
        "# Learn once on the full voting data set, while gathering info after every epoch\n",
        "# Then Graph it here.  Here is some sample graph code, but you can do it your own way, including using a bar graph, etc.\n",
        "\n",
        "def plot_misclassification(misclassification_rate):\n",
        "    \"\"\"\n",
        "        Plots the misclassification rate\n",
        "    Args:\n",
        "        misclassification_rate (array-like): A 1D array or list of missclassifcation rate at every epoch\n",
        "    \"\"\"\n",
        "    plt.plot(np.arange(len(misclassification_rate)), misclassification_rate)\n",
        "    plt.title(\"Misclassification Rate vs. Epoch\")\n",
        "    plt.xlabel(\"Epoch\")\n",
        "    plt.ylabel(\"Misclassification Rate\")\n",
        "    plt.show()"
      ]
    },
    {
      "cell_type": "markdown",
      "metadata": {
        "id": "PgqUrgh--GeU"
      },
      "source": [
        "#### Discussion\n",
        "Discuss the results in your graph. How quickly does the perceptron converge? Do you think this is typical? Are there any anomalies or anything you didn't expect?"
      ]
    },
    {
      "cell_type": "markdown",
      "metadata": {
        "id": "1ObIP79QG4Ao"
      },
      "source": [
        "** Your discussion goes here **"
      ]
    },
    {
      "cell_type": "markdown",
      "metadata": {
        "id": "MC-xrueUG4Ao"
      },
      "source": [
        "### 3.4 (15%) Hyperparameters\n",
        "Read over all the Hyperparameters and their defaults in the scikit [perceptron documentation](https://scikit-learn.org/stable/modules/generated/sklearn.linear_model.Perceptron.html). With the voting data set, experiment briefly with EACH of the following 6 hyperparameters and discuss your findings.\n",
        "- shuffle\n",
        "- eta0 - learning rate\n",
        "- verbose\n",
        "- fit_intercept - whether to use a bias weight or not\n",
        "- random state\n",
        "- warm start"
      ]
    },
    {
      "cell_type": "code",
      "execution_count": null,
      "metadata": {
        "id": "2gX2R7qpG4Ao"
      },
      "outputs": [],
      "source": [
        "# Run the model with different hyperparameters"
      ]
    },
    {
      "cell_type": "markdown",
      "metadata": {
        "id": "sbnXuBpVG4Ap"
      },
      "source": [
        "#### Discussion\n",
        "Discuss your findings from the experimentation with the hyperparameters."
      ]
    },
    {
      "cell_type": "markdown",
      "metadata": {
        "id": "wFD8vJO8G4Ap"
      },
      "source": [
        "** Your discussion goes here **"
      ]
    },
    {
      "cell_type": "markdown",
      "metadata": {
        "id": "mxssT08TzdRH"
      },
      "source": [
        "## 4. (10%) Use the perceptron to learn one other data set of your choice.  \n",
        "- The UC Irvine Data Repository is one great source, but you may get your data set from wherever you like, though it should be a real world task.\n",
        "- Report your results"
      ]
    },
    {
      "cell_type": "code",
      "execution_count": null,
      "metadata": {
        "id": "hqPZLMf1zdRH"
      },
      "outputs": [],
      "source": [
        "# Load and Train on your dataset and report results"
      ]
    },
    {
      "cell_type": "markdown",
      "metadata": {
        "id": "BqSFAXwlk3Ms"
      },
      "source": [
        "#### Discussion\n",
        "Discuss how the perceptron did on the data set and why you think it performed as such."
      ]
    },
    {
      "cell_type": "markdown",
      "metadata": {
        "id": "o9bfC2stG4Ap"
      },
      "source": [
        "** Your discussion goes here **"
      ]
    },
    {
      "cell_type": "markdown",
      "metadata": {
        "id": "cTlK-kijk8Mg"
      },
      "source": [
        "## 5. (5%) Code up your own perceptron learner\n",
        "\n",
        "Actually coding a model leads to better understanding of what is really happening \"under the hood.\"  Below is a scaffold you could use if you want. Requirements for this task:\n",
        "- Your perceptron should support the methods shown in the example scaffold below.\n",
        "- Your output node should output 1 if net is > 0, else 0.\n",
        "- Use Stochastic/On-line training updates: Iterate and update weights after each training instance (i.e. not batch updates)\n",
        "- Implement a stopping criteria: when your model has trained for a number of epochs with no improvement in accuracy, stop training. Note that the weights/accuracy do not usually change monotonically.\n",
        "- Your class can inherit from the relevant scikit-learn learners (e.g. data shuffling, etc.), but don't call any of the super methods to accomplish the core methods in the scaffold.\n",
        "- Run the evaluation data set and the voting data set above with your Perceptron version. Show and discuss your results and how they compare with the scikit-learn version."
      ]
    },
    {
      "cell_type": "code",
      "execution_count": null,
      "metadata": {
        "id": "5iY77P7gk1Nh"
      },
      "outputs": [],
      "source": [
        "# Your Perceptron Code"
      ]
    },
    {
      "cell_type": "markdown",
      "metadata": {
        "id": "CCMC9aHQ-IGL"
      },
      "source": [
        "*Discussion*"
      ]
    },
    {
      "cell_type": "code",
      "execution_count": null,
      "metadata": {
        "id": "u50SEhjHG4Ap"
      },
      "outputs": [],
      "source": [
        "# Optional scaffold for Perceptron code.  IF you use this feel free to change/add any methods you want.\n",
        "\n",
        "from sklearn.base import BaseEstimator, ClassifierMixin\n",
        "class PerceptronClassifier(BaseEstimator,ClassifierMixin):\n",
        "\n",
        "    def __init__(self, lr=.1, shuffle=True):\n",
        "        \"\"\"\n",
        "            Initialize class with chosen hyperparameters.\n",
        "        Args:\n",
        "            lr (float): A learning rate / step size.\n",
        "            shuffle: Whether to shuffle the training data each epoch. DO NOT\n",
        "            SHUFFLE for evaluation / debug datasets.\n",
        "        \"\"\"\n",
        "        self.lr = lr\n",
        "        self.shuffle = shuffle\n",
        "\n",
        "    def fit(self, X, y, initial_weights=None):\n",
        "        \"\"\"\n",
        "            Fit the data; run the algorithm and adjust the weights to find a\n",
        "            good solution\n",
        "        Args:\n",
        "            X (array-like): A 2D numpy array with the training data, excluding\n",
        "            targets\n",
        "            y (array-like): A 2D numpy array with the training targets\n",
        "            initial_weights (array-like): allows the user to provide initial\n",
        "            weights\n",
        "        Returns:\n",
        "            self: this allows this to be chained, e.g. model.fit(X,y).predict(X_test)\n",
        "        \"\"\"\n",
        "        self.weights = self.initialize_weights() if not initial_weights else initial_weights\n",
        "\n",
        "        return self\n",
        "\n",
        "    def predict(self, X):\n",
        "        \"\"\"\n",
        "            Predict all classes for a dataset X\n",
        "        Args:\n",
        "            X (array-like): A 2D numpy array with the training data, excluding\n",
        "            targets\n",
        "        Returns:\n",
        "            array, shape (n_samples,)\n",
        "                Predicted target values per element in X.\n",
        "        \"\"\"\n",
        "        pass\n",
        "\n",
        "    def initialize_weights(self):\n",
        "        \"\"\" Initialize weights for perceptron. Don't forget the bias!\n",
        "        Returns:\n",
        "        \"\"\"\n",
        "\n",
        "        return [0]\n",
        "\n",
        "    def score(self, X, y):\n",
        "        \"\"\"\n",
        "            Return accuracy of model on a given dataset. Must implement own\n",
        "            score function.\n",
        "        Args:\n",
        "            X (array-like): A 2D numpy array with data, excluding targets\n",
        "            y (array-like): A 2D numpy array with targets\n",
        "        Returns:\n",
        "            score : float\n",
        "                Mean accuracy of self.predict(X) wrt. y.\n",
        "        \"\"\"\n",
        "\n",
        "        return 0\n",
        "\n",
        "    ### Returns the weights and bias. Not required but great for debugging.\n",
        "    def get_weights(self):\n",
        "        pass"
      ]
    }
  ],
  "metadata": {
    "colab": {
      "provenance": []
    },
    "kernelspec": {
      "display_name": "Python 2.7.16 64-bit",
      "language": "python",
      "name": "python3"
    },
    "language_info": {
      "codemirror_mode": {
        "name": "ipython",
        "version": 3
      },
      "file_extension": ".py",
      "mimetype": "text/x-python",
      "name": "python",
      "nbconvert_exporter": "python",
      "pygments_lexer": "ipython3",
      "version": "3.11.4"
    },
    "vscode": {
      "interpreter": {
        "hash": "767d51c1340bd893661ea55ea3124f6de3c7a262a8b4abca0554b478b1e2ff90"
      }
    }
  },
  "nbformat": 4,
  "nbformat_minor": 0
}